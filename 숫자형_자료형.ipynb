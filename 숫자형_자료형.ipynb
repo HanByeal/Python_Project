{
 "cells": [
  {
   "cell_type": "markdown",
   "id": "998b9a29-3516-4baa-9a5c-129fcd98b879",
   "metadata": {},
   "source": [
    "# 제목1\n",
    "## 제목2\n",
    "### 제목3\n",
    "#### 제목4\n",
    "##### 제목5"
   ]
  },
  {
   "cell_type": "markdown",
   "id": "3d0f7220-2651-4728-9f46-8153455bd593",
   "metadata": {},
   "source": [
    "* 개요1\n",
    "* 개요2\n",
    "* 개요3\n",
    "\n",
    "필기할 내용1  \n",
    "필기할 내용2  \n",
    "줄바꿈(공백 2개)"
   ]
  },
  {
   "cell_type": "code",
   "execution_count": 11,
   "id": "7bb18bbe-9970-4065-b4d9-0fbf83864ac3",
   "metadata": {},
   "outputs": [],
   "source": [
    "#주석처리 \"#\"\n",
    "# 처음부터 다시 시작하는 코딩생활"
   ]
  },
  {
   "cell_type": "code",
   "execution_count": 12,
   "id": "ae47e859-3d3a-4f08-9028-b6b52eb447b5",
   "metadata": {},
   "outputs": [
    {
     "name": "stdout",
     "output_type": "stream",
     "text": [
      "10\n"
     ]
    }
   ],
   "source": [
    "# 정수형 자료형// 변수 a에 10을 넣어라.\n",
    "a = 5\n",
    "a = 10\n",
    "print(a)"
   ]
  },
  {
   "cell_type": "code",
   "execution_count": 13,
   "id": "87b9ed6c-34b4-46e2-8358-f5c603257bd6",
   "metadata": {},
   "outputs": [
    {
     "name": "stdout",
     "output_type": "stream",
     "text": [
      "15\n"
     ]
    }
   ],
   "source": [
    "b = 5\n",
    "print(a+b)"
   ]
  },
  {
   "cell_type": "code",
   "execution_count": 15,
   "id": "9db374d9-b250-4925-9adc-376d0747a69b",
   "metadata": {},
   "outputs": [
    {
     "name": "stdout",
     "output_type": "stream",
     "text": [
      "3\n",
      "10\n",
      "10\n"
     ]
    }
   ],
   "source": [
    "#2진법 8진법 16진법 숫자앞에 0~\n",
    "a = 0b11\n",
    "print(a)\n",
    "b = 0o12\n",
    "print(b)\n",
    "c = 0xA\n",
    "print(c)"
   ]
  },
  {
   "cell_type": "code",
   "execution_count": 16,
   "id": "907765dd-af2f-46bf-b5b0-6f875f787523",
   "metadata": {},
   "outputs": [
    {
     "name": "stdout",
     "output_type": "stream",
     "text": [
      "8.14\n"
     ]
    }
   ],
   "source": [
    "# 실수형 자료형\n",
    "a = 3.14\n",
    "b = 5\n",
    "print(a + b)"
   ]
  },
  {
   "cell_type": "code",
   "execution_count": 17,
   "id": "043a93eb-02c8-4f78-8edf-a729ae818c19",
   "metadata": {},
   "outputs": [
    {
     "data": {
      "text/plain": [
       "120000000.0"
      ]
     },
     "execution_count": 17,
     "metadata": {},
     "output_type": "execute_result"
    }
   ],
   "source": [
    "1.2e8\n",
    "#1.2 곱하기 10의 8승"
   ]
  },
  {
   "cell_type": "code",
   "execution_count": 21,
   "id": "30dc7b4d-6387-42e6-a28c-9ac8db8f8aae",
   "metadata": {},
   "outputs": [
    {
     "data": {
      "text/plain": [
       "3.14e-07"
      ]
     },
     "execution_count": 21,
     "metadata": {},
     "output_type": "execute_result"
    }
   ],
   "source": [
    "3.14e-7"
   ]
  },
  {
   "cell_type": "code",
   "execution_count": 26,
   "id": "cac65211-a4da-40b6-bee8-e6c1d0c380e4",
   "metadata": {},
   "outputs": [
    {
     "name": "stdout",
     "output_type": "stream",
     "text": [
      "(4+2j)\n",
      "4.0\n",
      "2.0\n",
      "(6-1j)\n"
     ]
    }
   ],
   "source": [
    "#복소수 허수를 python 에서 j로 표현\n",
    "a = 4 + 2j\n",
    "b = 2 - 3j\n",
    "print(a)\n",
    "print(a.real)\n",
    "print(a.imag)\n",
    "print(a+b)"
   ]
  },
  {
   "cell_type": "code",
   "execution_count": 27,
   "id": "7d18729a-d4ed-4387-bdae-f9faea0c9443",
   "metadata": {},
   "outputs": [
    {
     "data": {
      "text/plain": [
       "0.30000000000000004"
      ]
     },
     "execution_count": 27,
     "metadata": {},
     "output_type": "execute_result"
    }
   ],
   "source": [
    "0.1 + 0.2"
   ]
  },
  {
   "cell_type": "code",
   "execution_count": 29,
   "id": "7057ea82-e233-48ff-ba87-18cc2a7113a4",
   "metadata": {},
   "outputs": [
    {
     "name": "stdout",
     "output_type": "stream",
     "text": [
      "0.30000000000000004\n",
      "0.3\n"
     ]
    }
   ],
   "source": [
    "# decimal 라이브러리로부터 Decimal 라는 함수를 가져와라.\n",
    "from decimal import Decimal\n",
    "print(0.1 + 0.2)\n",
    "\n",
    "a = Decimal(\"0.1\")\n",
    "b = Decimal(\"0.2\")\n",
    "\n",
    "print(a+b)"
   ]
  },
  {
   "cell_type": "code",
   "execution_count": 36,
   "id": "7132e1a4-6ebc-47b2-9993-8d271df8a77d",
   "metadata": {},
   "outputs": [
    {
     "name": "stdout",
     "output_type": "stream",
     "text": [
      "13/21\n",
      "13/21\n",
      "13 21\n"
     ]
    }
   ],
   "source": [
    "#분수 계산\n",
    "from fractions import Fraction\n",
    "a = Fraction(1,3)# 3분의 1\n",
    "b = Fraction(2,7)\n",
    "print(a+b)\n",
    "c = a +b\n",
    "print(c)\n",
    "print(c.numerator, c.denominator)"
   ]
  },
  {
   "cell_type": "code",
   "execution_count": 37,
   "id": "7a26d786-fcda-4a12-8e3a-048f1c058f39",
   "metadata": {},
   "outputs": [
    {
     "name": "stdout",
     "output_type": "stream",
     "text": [
      "13\n",
      "7\n",
      "30\n",
      "3.3333333333333335\n",
      "1000\n",
      "3\n",
      "1\n"
     ]
    }
   ],
   "source": [
    "# 연산자 활용\n",
    "a = 10\n",
    "b = 3\n",
    "print(a+b)\n",
    "print(a-b)\n",
    "print(a*b)\n",
    "print(a/b)\n",
    "\n",
    "print(a**b) # a의 b제곱\n",
    "print(a//b) # a를 b로 나누었을떄 몫\n",
    "print(a%b) # a를 b로 나누었을때 나머지\n"
   ]
  },
  {
   "cell_type": "code",
   "execution_count": 39,
   "id": "16a4a37e-6c12-4e7c-8edc-b2d7340cc5d9",
   "metadata": {},
   "outputs": [
    {
     "name": "stdout",
     "output_type": "stream",
     "text": [
      "5\n"
     ]
    }
   ],
   "source": [
    "print(abs(-5))# 절댓값"
   ]
  },
  {
   "cell_type": "code",
   "execution_count": 41,
   "id": "fabe1b59-4bd6-41bc-b45c-6351625ccad5",
   "metadata": {},
   "outputs": [
    {
     "name": "stdout",
     "output_type": "stream",
     "text": [
      "3.14\n"
     ]
    }
   ],
   "source": [
    "print(round(3.141592,2))#반올림 3자리에서 반올림"
   ]
  },
  {
   "cell_type": "code",
   "execution_count": 44,
   "id": "4cc71efe-43e0-4f8e-808b-d1541f88a110",
   "metadata": {},
   "outputs": [
    {
     "data": {
      "text/plain": [
       "12300"
      ]
     },
     "execution_count": 44,
     "metadata": {},
     "output_type": "execute_result"
    }
   ],
   "source": [
    "round(12345,-2)# 10의 자리에서 반올림"
   ]
  },
  {
   "cell_type": "code",
   "execution_count": 50,
   "id": "a35b5086-eaaf-4f95-b118-b1c563647b2d",
   "metadata": {},
   "outputs": [
    {
     "name": "stdout",
     "output_type": "stream",
     "text": [
      "15\n",
      "1\n",
      "5\n"
     ]
    }
   ],
   "source": [
    "number = [1,2,3,4,5] # 총합 최대 최소\n",
    "print(sum(number))\n",
    "print(min(number))\n",
    "print(max(number))\n"
   ]
  },
  {
   "cell_type": "code",
   "execution_count": null,
   "id": "399ab442-723f-4c5a-8ead-f10a9a07cd8d",
   "metadata": {},
   "outputs": [],
   "source": []
  }
 ],
 "metadata": {
  "kernelspec": {
   "display_name": "Python 3 (ipykernel)",
   "language": "python",
   "name": "python3"
  },
  "language_info": {
   "codemirror_mode": {
    "name": "ipython",
    "version": 3
   },
   "file_extension": ".py",
   "mimetype": "text/x-python",
   "name": "python",
   "nbconvert_exporter": "python",
   "pygments_lexer": "ipython3",
   "version": "3.12.7"
  }
 },
 "nbformat": 4,
 "nbformat_minor": 5
}

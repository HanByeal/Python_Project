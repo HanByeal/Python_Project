{
 "cells": [
  {
   "cell_type": "code",
   "execution_count": 36,
   "id": "fd5a212a-a4da-49d0-9bb7-824609926618",
   "metadata": {},
   "outputs": [
    {
     "data": {
      "text/plain": [
       "True"
      ]
     },
     "execution_count": 36,
     "metadata": {},
     "output_type": "execute_result"
    }
   ],
   "source": [
    "#문자열 자료형\n",
    "a = 'python'\n",
    "b = \"python\"\n",
    "\n",
    "a == b"
   ]
  },
  {
   "cell_type": "code",
   "execution_count": 37,
   "id": "6e16ebc1-5ca9-4388-98ad-a60888cd11a3",
   "metadata": {},
   "outputs": [
    {
     "name": "stdout",
     "output_type": "stream",
     "text": [
      "python \"is\" too fun\n",
      "pyton 'is' too fun\n",
      "python 'is' too fun\n",
      "python is \n",
      "too fun\n",
      "python is too \t fun\n",
      "python 'is\"too\n",
      "\n",
      "fun'\n"
     ]
    }
   ],
   "source": [
    "a = 'python \"is\" too fun'\n",
    "b = \"pyton 'is' too fun\"\n",
    "c = 'python \\'is\\' too fun'\n",
    "d = 'python is \\ntoo fun' # 줄바꿈\n",
    "e = 'python is too \\t fun' # tab key\n",
    "f = \"\"\"python 'is\"too\n",
    "###\n",
    "fun'\"\"\" #무적기, 알아서 잘해줌 ,단점 : 가독성 떨어짐, 주석과 혼동가능성\n",
    "\n",
    "print(a)\n",
    "print(b)\n",
    "print(c)\n",
    "print(d)\n",
    "print(e)\n",
    "print(f)"
   ]
  },
  {
   "cell_type": "code",
   "execution_count": 38,
   "id": "3bddbb9e-99ca-4fa1-a7e1-22558d1dd94e",
   "metadata": {},
   "outputs": [
    {
     "data": {
      "text/plain": [
       "'n'"
      ]
     },
     "execution_count": 38,
     "metadata": {},
     "output_type": "execute_result"
    }
   ],
   "source": [
    "a = 'python is too fun'\n",
    "\n",
    "# a의 0번째에 접근   0 -> n <- -1\n",
    "# 하나씩 접근 : 인덱싱\n",
    "a[-1]"
   ]
  },
  {
   "cell_type": "code",
   "execution_count": 39,
   "id": "6a6298f1-f51d-46f4-8152-085b54bc492c",
   "metadata": {},
   "outputs": [
    {
     "data": {
      "text/plain": [
       "'thon i'"
      ]
     },
     "execution_count": 39,
     "metadata": {},
     "output_type": "execute_result"
    }
   ],
   "source": [
    "#여러개 접근 : 슬라이싱\n",
    "a[2:8] #2번쨰부터 시작해서 8번째 전까지"
   ]
  },
  {
   "cell_type": "code",
   "execution_count": 40,
   "id": "5139479f-155b-49d8-a46a-06893f7bbbeb",
   "metadata": {},
   "outputs": [
    {
     "data": {
      "text/plain": [
       "'python i'"
      ]
     },
     "execution_count": 40,
     "metadata": {},
     "output_type": "execute_result"
    }
   ],
   "source": [
    "a[:8]#처음부터 8번째 전까지"
   ]
  },
  {
   "cell_type": "code",
   "execution_count": 41,
   "id": "23061967-e1e0-4943-ae69-1936ba6c69c3",
   "metadata": {},
   "outputs": [
    {
     "data": {
      "text/plain": [
       "'thon is too fun'"
      ]
     },
     "execution_count": 41,
     "metadata": {},
     "output_type": "execute_result"
    }
   ],
   "source": [
    "a[2:]# 2번쨰부터 끝까지"
   ]
  },
  {
   "cell_type": "code",
   "execution_count": 42,
   "id": "84c77bb1-0f83-4540-a7e4-6f4fa4d97546",
   "metadata": {},
   "outputs": [
    {
     "data": {
      "text/plain": [
       "'to s'"
      ]
     },
     "execution_count": 42,
     "metadata": {},
     "output_type": "execute_result"
    }
   ],
   "source": [
    "a[2:10:2] # 2번쨰 부터 10번째전까지 2씩 증가시키면서 접근 2,4,6,8  -공백도 문자"
   ]
  },
  {
   "cell_type": "code",
   "execution_count": 44,
   "id": "67f9925d-6059-47bd-86b9-5992cabbcfd9",
   "metadata": {},
   "outputs": [
    {
     "data": {
      "text/plain": [
       "'nuf oot si nohtyp'"
      ]
     },
     "execution_count": 44,
     "metadata": {},
     "output_type": "execute_result"
    }
   ],
   "source": [
    "a[::-1]# 데이터 순서 뒤집기"
   ]
  },
  {
   "cell_type": "code",
   "execution_count": 46,
   "id": "5e90b41b-2198-4bc2-b80f-a6486f97bb0c",
   "metadata": {},
   "outputs": [
    {
     "data": {
      "text/plain": [
       "'python is too fun!'"
      ]
     },
     "execution_count": 46,
     "metadata": {},
     "output_type": "execute_result"
    }
   ],
   "source": [
    "# 문자열 연산\n",
    "a = \"python\"\n",
    "b = \" is too fun!\"\n",
    "a + b"
   ]
  },
  {
   "cell_type": "code",
   "execution_count": 48,
   "id": "da5a2a77-2ffa-479d-9a02-66ddf4729ecc",
   "metadata": {},
   "outputs": [
    {
     "data": {
      "text/plain": [
       "'pythonpythonpython'"
      ]
     },
     "execution_count": 48,
     "metadata": {},
     "output_type": "execute_result"
    }
   ],
   "source": [
    "a * 3 # 빼기 나누기 에러뜸"
   ]
  },
  {
   "cell_type": "code",
   "execution_count": 49,
   "id": "1a26423e-7664-4615-a2a6-eb10c5f36754",
   "metadata": {},
   "outputs": [
    {
     "name": "stdout",
     "output_type": "stream",
     "text": [
      "python is too fun!\n"
     ]
    }
   ],
   "source": [
    "a = a+b\n",
    "print(a)"
   ]
  },
  {
   "cell_type": "code",
   "execution_count": 51,
   "id": "29c56239-7e42-4d03-95eb-5894a0ea77b7",
   "metadata": {},
   "outputs": [
    {
     "data": {
      "text/plain": [
       "18"
      ]
     },
     "execution_count": 51,
     "metadata": {},
     "output_type": "execute_result"
    }
   ],
   "source": [
    "len(a)#문자열 길이 확인 (공백포함)"
   ]
  },
  {
   "cell_type": "code",
   "execution_count": 58,
   "id": "b58e0e7f-17e6-4a72-b9f7-b62f8e90e1dc",
   "metadata": {},
   "outputs": [
    {
     "name": "stdout",
     "output_type": "stream",
     "text": [
      "PYTHON IS TOO FUN!\n",
      "python is too fun!\n",
      "Python is too fun!\n",
      "Python Is Too Fun!\n",
      "PYTHON IS TOO FUN!\n"
     ]
    }
   ],
   "source": [
    "# 문자열.함수() //문자열 전용 함수\n",
    "# print(), max(), min()...// 내장함수\n",
    "print(a.upper())\n",
    "print(a.lower())\n",
    "print(a.capitalize())\n",
    "print(a.title())\n",
    "print(a.swapcase()) # 대<->소문자 교환"
   ]
  },
  {
   "cell_type": "code",
   "execution_count": 63,
   "id": "f8af2f03-b472-47d9-a136-7cf4d8a75aad",
   "metadata": {},
   "outputs": [
    {
     "name": "stdout",
     "output_type": "stream",
     "text": [
      "python      \t\t\t \n",
      "     \t\t\t   python\n",
      "python\n"
     ]
    }
   ],
   "source": [
    "a = \"     \\t\\t\\t   python      \\t\\t\\t \" #\\t tab키도 공백으로 친다. 공백거거\n",
    "print(a.lstrip())\n",
    "print(a.rstrip())\n",
    "print(a.strip())"
   ]
  },
  {
   "cell_type": "code",
   "execution_count": 66,
   "id": "f968a5a3-0405-469e-8af6-a7208f232a45",
   "metadata": {},
   "outputs": [
    {
     "name": "stdout",
     "output_type": "stream",
     "text": [
      "python==========\n",
      "+++++++++++python\n",
      "python==========\n"
     ]
    }
   ],
   "source": [
    "a = \"+++++++++++python==========\" #함수안에 지울 문자 넣기.\n",
    "print(a.lstrip('+'))\n",
    "print(a.rstrip('='))\n",
    "print(a.strip('+'))"
   ]
  },
  {
   "cell_type": "code",
   "execution_count": 71,
   "id": "25db1a18-01dd-494c-bcdb-81be94b5b897",
   "metadata": {},
   "outputs": [
    {
     "name": "stdout",
     "output_type": "stream",
     "text": [
      "['python,is,too,fun!']\n",
      "['python', 'is', 'too', 'fun!']\n"
     ]
    }
   ],
   "source": [
    "a = \"python,is,too,fun!\"\n",
    "print(a.split())\n",
    "print(a.split(','))#빈도분석\n",
    "b = a.split(',')"
   ]
  },
  {
   "cell_type": "code",
   "execution_count": 73,
   "id": "8d9892ab-b168-46cd-8df1-550230042930",
   "metadata": {},
   "outputs": [
    {
     "data": {
      "text/plain": [
       "'a -> b -> c -> d -> e'"
      ]
     },
     "execution_count": 73,
     "metadata": {},
     "output_type": "execute_result"
    }
   ],
   "source": [
    "\" -> \".join(\"abcde\")"
   ]
  },
  {
   "cell_type": "code",
   "execution_count": 74,
   "id": "f2ee8e61-f26e-4b11-ae2a-61366c3a9e3f",
   "metadata": {},
   "outputs": [
    {
     "data": {
      "text/plain": [
       "'python -> is -> too -> fun!'"
      ]
     },
     "execution_count": 74,
     "metadata": {},
     "output_type": "execute_result"
    }
   ],
   "source": [
    "\" -> \".join(b) # 리스트 안에 있는 값들이 문자열인 경우 사용가능"
   ]
  },
  {
   "cell_type": "code",
   "execution_count": 76,
   "id": "71f31f83-0d82-4bce-bd88-b5251f4a3e8c",
   "metadata": {},
   "outputs": [
    {
     "data": {
      "text/plain": [
       "'java is too fun!'"
      ]
     },
     "execution_count": 76,
     "metadata": {},
     "output_type": "execute_result"
    }
   ],
   "source": [
    "a = \"python is too fun!\"\n",
    "a = a.replace(\"python\",\"java\")\n",
    "a"
   ]
  },
  {
   "cell_type": "code",
   "execution_count": 80,
   "id": "98e81519-e09a-4d15-a66a-cd24b6318a7c",
   "metadata": {},
   "outputs": [
    {
     "data": {
      "text/plain": [
       "'나이 의 이름은 홍길동이고, 40.12살입니다.'"
      ]
     },
     "execution_count": 80,
     "metadata": {},
     "output_type": "execute_result"
    }
   ],
   "source": [
    "name = \"홍길동\"\n",
    "age = 40.123456789\n",
    "\n",
    "f\"나이 의 이름은 {name}이고, {age:.2f}살입니다.\" #소수 2번째 자리까지 표기"
   ]
  },
  {
   "cell_type": "code",
   "execution_count": 1,
   "id": "2cad0110-f6fe-4444-b597-34951900563e",
   "metadata": {},
   "outputs": [
    {
     "name": "stdout",
     "output_type": "stream",
     "text": [
      "False\n",
      "True\n",
      "False\n",
      "True\n",
      "True\n"
     ]
    }
   ],
   "source": [
    "print(\"hello123\".isalpha()) #알파벳\n",
    "print(\"123\".isdigit()) #숫자\n",
    "print(\"hello 123\".isalnum()) #숫자,알파벳 공백X\n",
    "print(\"HELLO\".isupper())\n",
    "print(\"안녕\".isalpha())"
   ]
  },
  {
   "cell_type": "code",
   "execution_count": null,
   "id": "749ecd99-7735-420b-bc1d-e9d76c8f3c7a",
   "metadata": {},
   "outputs": [],
   "source": []
  }
 ],
 "metadata": {
  "kernelspec": {
   "display_name": "Python 3 (ipykernel)",
   "language": "python",
   "name": "python3"
  },
  "language_info": {
   "codemirror_mode": {
    "name": "ipython",
    "version": 3
   },
   "file_extension": ".py",
   "mimetype": "text/x-python",
   "name": "python",
   "nbconvert_exporter": "python",
   "pygments_lexer": "ipython3",
   "version": "3.12.7"
  }
 },
 "nbformat": 4,
 "nbformat_minor": 5
}

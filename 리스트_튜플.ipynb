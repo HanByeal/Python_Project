{
 "cells": [
  {
   "cell_type": "code",
   "execution_count": 4,
   "id": "d534d6b2-b816-40c2-8714-40b48e7bc2b7",
   "metadata": {},
   "outputs": [
    {
     "name": "stdout",
     "output_type": "stream",
     "text": [
      "7\n"
     ]
    }
   ],
   "source": [
    "#리스트, 튜플 자료형: 데이터를 보관하는 자료형\n",
    "box = [1,3,5,4,2,'hello',[2,7]]\n",
    "print(box[-1][-1])"
   ]
  },
  {
   "cell_type": "code",
   "execution_count": 5,
   "id": "64616fc6-2fb1-45fa-9443-f72492320ba6",
   "metadata": {},
   "outputs": [
    {
     "name": "stdout",
     "output_type": "stream",
     "text": [
      "[5, 4, 2]\n"
     ]
    }
   ],
   "source": [
    "box = [1,3,5,4,2]\n",
    "print(box[2:5])"
   ]
  },
  {
   "cell_type": "code",
   "execution_count": 9,
   "id": "7381f786-5f80-40ef-b0ae-549a578cc951",
   "metadata": {},
   "outputs": [
    {
     "name": "stdout",
     "output_type": "stream",
     "text": [
      "3\n",
      "[1, 7, 5, 4, 2]\n",
      "[1, 3, 5, 4, 2]\n"
     ]
    }
   ],
   "source": [
    "a = [1,3,5,4,2]\n",
    "b = a[:] # a복사 b대입\n",
    "print(b[1])\n",
    "b[1] = 7\n",
    "print(b)\n",
    "print(a)"
   ]
  },
  {
   "cell_type": "code",
   "execution_count": 46,
   "id": "cc2e7b04-894d-42ea-a330-4399a57b8afd",
   "metadata": {},
   "outputs": [
    {
     "name": "stdout",
     "output_type": "stream",
     "text": [
      "[1, 2, 3, 4, 5, 6]\n"
     ]
    }
   ],
   "source": [
    "a=[1,2,3]\n",
    "b=[4,5,6]\n",
    "print(a+b)"
   ]
  },
  {
   "cell_type": "code",
   "execution_count": 47,
   "id": "ca35d100-0700-4870-89ed-9311f93013c1",
   "metadata": {},
   "outputs": [
    {
     "name": "stdout",
     "output_type": "stream",
     "text": [
      "[1, 2, 3, 5, 8]\n"
     ]
    }
   ],
   "source": [
    "a.append(5)\n",
    "a.append(8)\n",
    "print(a)"
   ]
  },
  {
   "cell_type": "code",
   "execution_count": 48,
   "id": "315308c5-2523-423b-8cba-b306b7450ed6",
   "metadata": {},
   "outputs": [
    {
     "name": "stdout",
     "output_type": "stream",
     "text": [
      "[10, 1, 2, 3, 5, 8]\n"
     ]
    }
   ],
   "source": [
    "a.insert(0,10)\n",
    "print(a)"
   ]
  },
  {
   "cell_type": "code",
   "execution_count": 49,
   "id": "c0ca293e-9531-4ae0-9e44-50866df74e32",
   "metadata": {},
   "outputs": [
    {
     "name": "stdout",
     "output_type": "stream",
     "text": [
      "[1, 2, 3, 5, 8]\n"
     ]
    }
   ],
   "source": [
    "del a[0] #위치 값 삭제\n",
    "print(a)"
   ]
  },
  {
   "cell_type": "code",
   "execution_count": 50,
   "id": "6013fa59-d4a4-436b-ad0a-e1bb099b92ea",
   "metadata": {},
   "outputs": [
    {
     "name": "stdout",
     "output_type": "stream",
     "text": [
      "[1, 2, 3, 5]\n"
     ]
    }
   ],
   "source": [
    "a.remove(8) #먼저 발견한 8삭제\n",
    "print(a)"
   ]
  },
  {
   "cell_type": "code",
   "execution_count": 51,
   "id": "ef3a5031-7b63-403c-a9d3-8f14a66ad8f6",
   "metadata": {},
   "outputs": [
    {
     "name": "stdout",
     "output_type": "stream",
     "text": [
      "None\n"
     ]
    }
   ],
   "source": [
    "z = a.remove(3)\n",
    "print(z)"
   ]
  },
  {
   "cell_type": "code",
   "execution_count": 52,
   "id": "3ab2f3c7-d412-4360-926a-66e36548387e",
   "metadata": {},
   "outputs": [
    {
     "name": "stdout",
     "output_type": "stream",
     "text": [
      "5\n"
     ]
    }
   ],
   "source": [
    "z = a.pop() # 가장 뒤에 있는 것을 꺼내라\n",
    "print(z)"
   ]
  },
  {
   "cell_type": "code",
   "execution_count": 53,
   "id": "dce36a3d-0da1-4da2-8206-e6c3c5f77f35",
   "metadata": {},
   "outputs": [
    {
     "name": "stdout",
     "output_type": "stream",
     "text": [
      "[2]\n"
     ]
    }
   ],
   "source": [
    "a.pop(0)\n",
    "print(a)"
   ]
  },
  {
   "cell_type": "code",
   "execution_count": 59,
   "id": "482a5705-642b-4fb7-be8b-00aaef171411",
   "metadata": {},
   "outputs": [
    {
     "name": "stdout",
     "output_type": "stream",
     "text": [
      "[1, 2, 3, 4, 5]\n",
      "[5, 4, 3, 2, 1]\n"
     ]
    }
   ],
   "source": [
    "a = [1,3,5,4,2]\n",
    "z = sorted(a)\n",
    "print(z)\n",
    "a.sort(reverse = True)\n",
    "print(a)"
   ]
  },
  {
   "cell_type": "code",
   "execution_count": 60,
   "id": "5d468b4a-dbd7-4099-9264-45317c24dc21",
   "metadata": {},
   "outputs": [
    {
     "name": "stdout",
     "output_type": "stream",
     "text": [
      "[2, 4, 5, 3, 1]\n"
     ]
    }
   ],
   "source": [
    "a = [1,3,5,4,2]\n",
    "a.reverse()\n",
    "print(a)"
   ]
  },
  {
   "cell_type": "code",
   "execution_count": 67,
   "id": "1c10155b-7227-436a-a332-2a49046c4b48",
   "metadata": {},
   "outputs": [
    {
     "name": "stdout",
     "output_type": "stream",
     "text": [
      "[[1, 0], [5, 2], [2, 3], [6, 9]]\n"
     ]
    }
   ],
   "source": [
    "b= [[1,0],[2,3],[5,2],[6,9]]\n",
    "b.sort(key = lambda x: x[1], reverse = True)\n",
    "print(b)"
   ]
  },
  {
   "cell_type": "code",
   "execution_count": 69,
   "id": "3361c8f4-5d35-490e-b9e9-b4f5f070f7c4",
   "metadata": {},
   "outputs": [
    {
     "name": "stdout",
     "output_type": "stream",
     "text": [
      "4\n",
      "1\n"
     ]
    }
   ],
   "source": [
    "print(a.index(1)) #위치값\n",
    "print(a.count(1)) #개수"
   ]
  },
  {
   "cell_type": "code",
   "execution_count": 71,
   "id": "45492108-dbf4-4513-9bed-1c94a79b8895",
   "metadata": {},
   "outputs": [
    {
     "data": {
      "text/plain": [
       "(1, 3, 5, 4, 2, 1, 3, 5, 4, 2)"
      ]
     },
     "execution_count": 71,
     "metadata": {},
     "output_type": "execute_result"
    }
   ],
   "source": [
    "# 튜플 : 리스트랑 같다.\n",
    "a = (1,3,5,4,2)\n",
    "a + a"
   ]
  },
  {
   "cell_type": "code",
   "execution_count": 73,
   "id": "a200f0dd-312d-46cc-8eb8-13ddb192605c",
   "metadata": {},
   "outputs": [
    {
     "ename": "TypeError",
     "evalue": "'tuple' object does not support item assignment",
     "output_type": "error",
     "traceback": [
      "\u001b[1;31m---------------------------------------------------------------------------\u001b[0m",
      "\u001b[1;31mTypeError\u001b[0m                                 Traceback (most recent call last)",
      "Cell \u001b[1;32mIn[73], line 1\u001b[0m\n\u001b[1;32m----> 1\u001b[0m a[\u001b[38;5;241m1\u001b[39m] \u001b[38;5;241m=\u001b[39m \u001b[38;5;241m7\u001b[39m\n",
      "\u001b[1;31mTypeError\u001b[0m: 'tuple' object does not support item assignment"
     ]
    }
   ],
   "source": [
    "a[1] = 7 #한 번 정하면 절대 수정하거나, 삭제할 수가 없다."
   ]
  },
  {
   "cell_type": "code",
   "execution_count": 74,
   "id": "69367526-5d3b-41d8-a8db-648f977beb89",
   "metadata": {},
   "outputs": [
    {
     "name": "stdout",
     "output_type": "stream",
     "text": [
      "1\n",
      "0\n"
     ]
    }
   ],
   "source": [
    "print(a.count(1))\n",
    "print(a.index(1))"
   ]
  },
  {
   "cell_type": "code",
   "execution_count": 78,
   "id": "b5a6a354-e0d8-4e37-8127-8240931d88a6",
   "metadata": {},
   "outputs": [
    {
     "name": "stdout",
     "output_type": "stream",
     "text": [
      "(5, 10)\n"
     ]
    }
   ],
   "source": [
    "b= 5 , 10\n",
    "print(b)"
   ]
  },
  {
   "cell_type": "code",
   "execution_count": 79,
   "id": "19754451-662a-46d1-a91e-2924cce91676",
   "metadata": {},
   "outputs": [
    {
     "data": {
      "text/plain": [
       "10"
      ]
     },
     "execution_count": 79,
     "metadata": {},
     "output_type": "execute_result"
    }
   ],
   "source": [
    "# 여러 개의 값을 하나의 튜플로 묶는 것 : 패킹\n",
    "# 이미 묶여 있는 것들을 여러 개의변수로 할당 하는 : 언패킹\n",
    "a,b,c, = 10, 20, 30 \n",
    "a"
   ]
  },
  {
   "cell_type": "code",
   "execution_count": 86,
   "id": "a201f188-0099-4587-a907-8d5f08c59e66",
   "metadata": {},
   "outputs": [
    {
     "name": "stdout",
     "output_type": "stream",
     "text": [
      "1\n",
      "[3, 4, 5]\n",
      "1 2 [3, 4, 5]\n"
     ]
    }
   ],
   "source": [
    "box = (1,2,3,4,5)\n",
    "a,b,c,d,e = box\n",
    "print(a)\n",
    "\n",
    "a,b,*c = box\n",
    "print(c)\n",
    "print(a,b,c)"
   ]
  },
  {
   "cell_type": "code",
   "execution_count": 87,
   "id": "8cf40ac0-0ed5-4cd3-83dc-508edf5a01ed",
   "metadata": {},
   "outputs": [
    {
     "name": "stdout",
     "output_type": "stream",
     "text": [
      "20 10\n"
     ]
    }
   ],
   "source": [
    "x= 10\n",
    "y= 20\n",
    "\n",
    "x,y = y,x\n",
    "print(x,y)"
   ]
  },
  {
   "cell_type": "code",
   "execution_count": 91,
   "id": "2cf80a9a-1052-4a2f-ba7b-0a9d8c517a91",
   "metadata": {},
   "outputs": [
    {
     "name": "stdout",
     "output_type": "stream",
     "text": [
      "[1, 2, 3, 4]\n"
     ]
    },
    {
     "data": {
      "text/plain": [
       "(1, 2, 3, 4)"
      ]
     },
     "execution_count": 91,
     "metadata": {},
     "output_type": "execute_result"
    }
   ],
   "source": [
    "a = list((1,2,3))\n",
    "a.append(4)\n",
    "print(a)\n",
    "tuple(a)"
   ]
  },
  {
   "cell_type": "code",
   "execution_count": 94,
   "id": "63836e41-ab42-451a-b406-258289216df6",
   "metadata": {},
   "outputs": [
    {
     "data": {
      "text/plain": [
       "['h', 'e', 'l', 'l', 'o']"
      ]
     },
     "execution_count": 94,
     "metadata": {},
     "output_type": "execute_result"
    }
   ],
   "source": [
    "list('hello')"
   ]
  },
  {
   "cell_type": "code",
   "execution_count": 95,
   "id": "7803d22e-e214-4ae3-ae5f-32c78df7da4b",
   "metadata": {},
   "outputs": [
    {
     "data": {
      "text/plain": [
       "[1, 2, 3, 4, 5, 6, 7, 8, 9, 10]"
      ]
     },
     "execution_count": 95,
     "metadata": {},
     "output_type": "execute_result"
    }
   ],
   "source": [
    "list(range(1,11))"
   ]
  },
  {
   "cell_type": "code",
   "execution_count": null,
   "id": "d9f42944-df8d-4700-aec6-6c9d5ca2f907",
   "metadata": {},
   "outputs": [],
   "source": []
  }
 ],
 "metadata": {
  "kernelspec": {
   "display_name": "Python 3 (ipykernel)",
   "language": "python",
   "name": "python3"
  },
  "language_info": {
   "codemirror_mode": {
    "name": "ipython",
    "version": 3
   },
   "file_extension": ".py",
   "mimetype": "text/x-python",
   "name": "python",
   "nbconvert_exporter": "python",
   "pygments_lexer": "ipython3",
   "version": "3.12.7"
  }
 },
 "nbformat": 4,
 "nbformat_minor": 5
}
